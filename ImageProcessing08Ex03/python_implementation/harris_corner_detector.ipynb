{
 "cells": [
  {
   "cell_type": "code",
   "execution_count": null,
   "metadata": {},
   "outputs": [],
   "source": [
    "import numpy as np\n",
    "import matplotlib.pyplot as plt\n",
    "from PIL.Image import *\n",
    "from scipy import ndimage\n",
    "import matplotlib.image as mpimg"
   ]
  },
  {
   "cell_type": "code",
   "execution_count": null,
   "metadata": {},
   "outputs": [],
   "source": [
    "class HarrisCornerDetector:\n",
    "    def __init__(self, k = 0.04, lambda_th = 0.01):\n",
    "        self.k = k\n",
    "        self.lambda_th = lambda_th\n",
    "        self.rbg_grey_map = [0.2989, 0.5870, 0.1140]\n",
    "        \n",
    "    def rgb2gray(self, rgb_image):\n",
    "        return np.dot(rgb_image[...,:3], self.rbg_grey_map)\n",
    "    \n",
    "    def getMaxEigenValue(self, img):\n",
    "        rmax = 0\n",
    "        cols, rows = img.shape\n",
    "        imarr = np.asarray(img, dtype=np.float64)\n",
    "        r_eig_vals = np.zeros((cols, rows))\n",
    "\n",
    "        ix = ndimage.sobel(imarr, 0)\n",
    "        iy = ndimage.sobel(imarr, 1)\n",
    "\n",
    "        ix2 = ix * ix\n",
    "        iy2 = iy * iy\n",
    "        ixy = ix * iy\n",
    "\n",
    "        ix2 = ndimage.gaussian_filter(ix2, sigma=2)\n",
    "        iy2 = ndimage.gaussian_filter(iy2, sigma=2)\n",
    "        ixy = ndimage.gaussian_filter(ixy, sigma=2)\n",
    "\n",
    "        for i in range(cols):\n",
    "            for j in range(rows):\n",
    "                m = np.array([[ix2[i, j], ixy[i, j]], [ixy[i, j], iy2[i, j]]], dtype=np.float64)\n",
    "                r_eig_vals[i, j] = np.linalg.det(m) - self.k * (np.power(np.trace(m), 2))\n",
    "                if r_eig_vals[i, j] > rmax:\n",
    "                    rmax = r_eig_vals[i, j]\n",
    "        return rmax, r_eig_vals\n",
    "    \n",
    "    def detectHarrisCorners(self, rmax, r_eig_vals):\n",
    "        r = r_eig_vals\n",
    "        cols, rows = r_eig_vals.shape\n",
    "        result = np.zeros((cols, rows))\n",
    "        for i in range(cols - 1):\n",
    "            for j in range(rows - 1):\n",
    "                if r_eig_vals[i, j] > self.lambda_th * rmax and r[i, j] > r[i-1, j-1] and r[i, j] > r[i-1, j+1]\\\n",
    "                                         and r[i, j] > r[i+1, j-1] and r[i, j] > r[i+1, j+1]:\n",
    "                    result[i, j] = 1\n",
    "        return result\n",
    "    \n",
    "    def plotResults(self, result, img):\n",
    "        grey_image = rgb2gray(img)\n",
    "        pc, pr = np.where(result == 1)\n",
    "        \n",
    "        f, (ax1, ax2) = plt.subplots(1, 2, sharey=True, figsize=(15, 20))\n",
    "        \n",
    "        ax1.plot(pr, pc, 'r+')\n",
    "        plt.savefig('harris_test.png')\n",
    "        ax1.imshow(grey_img, 'gray')\n",
    "        ax2.imshow(img)\n",
    "        \n",
    "        plt.show()"
   ]
  },
  {
   "cell_type": "code",
   "execution_count": null,
   "metadata": {},
   "outputs": [],
   "source": [
    "img = mpimg.imread('../tennis505.ppm')\n",
    "harris_detector = HarrisCornerDetector(lambda_th = 0.1)\n",
    "\n",
    "# step-1 conver to grey\n",
    "grey_img = harris_detector.rgb2gray(img)\n",
    "\n",
    "rmax, r_eig_vals = harris_detector.getMaxEigenValue(grey_img)\n",
    "print(f'rmax: {rmax} r_eig_vals shape: {r_eig_vals.shape}')\n",
    "\n",
    "# step-2\n",
    "result = harris_detector.detectHarrisCorners(rmax, r_eig_vals)\n",
    "\n",
    "# step-3\n",
    "harris_detector.plotResults(result, img)"
   ]
  },
  {
   "cell_type": "code",
   "execution_count": null,
   "metadata": {},
   "outputs": [],
   "source": []
  }
 ],
 "metadata": {
  "kernelspec": {
   "display_name": "Python 3",
   "language": "python",
   "name": "python3"
  },
  "language_info": {
   "codemirror_mode": {
    "name": "ipython",
    "version": 3
   },
   "file_extension": ".py",
   "mimetype": "text/x-python",
   "name": "python",
   "nbconvert_exporter": "python",
   "pygments_lexer": "ipython3",
   "version": "3.6.10"
  }
 },
 "nbformat": 4,
 "nbformat_minor": 4
}
